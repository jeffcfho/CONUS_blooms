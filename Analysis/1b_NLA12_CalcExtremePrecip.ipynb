{
 "cells": [
  {
   "cell_type": "code",
   "execution_count": 1,
   "metadata": {
    "collapsed": true
   },
   "outputs": [],
   "source": [
    "%matplotlib inline\n",
    "from IPython.display import display\n",
    "\n",
    "import pandas as pd\n",
    "import numpy as np"
   ]
  },
  {
   "cell_type": "code",
   "execution_count": 57,
   "metadata": {
    "collapsed": false
   },
   "outputs": [],
   "source": [
    "# testing on first csv\n",
    "basin_name = 'NLA12_ME-124'\n",
    "# import csv\n",
    "df_basin = pd.DataFrame.from_csv(\n",
    "    '/Users/Jeff/Google Drive/CONUS_blooms/{}_pr_daily_gridmet.csv'.format(basin_name))\n",
    "# df_basin = pd.DataFrame.from_csv('/Users/Jeff/Google Drive/CONUS_blooms/test_NLA12_WI-168_featcol.csv')\n",
    "df_basin.drop('.geo',axis=1,inplace=True)"
   ]
  },
  {
   "cell_type": "code",
   "execution_count": 82,
   "metadata": {
    "collapsed": false,
    "scrolled": false
   },
   "outputs": [
    {
     "data": {
      "text/html": [
       "<div>\n",
       "<table border=\"1\" class=\"dataframe\">\n",
       "  <thead>\n",
       "    <tr style=\"text-align: right;\">\n",
       "      <th></th>\n",
       "      <th>pr90</th>\n",
       "      <th>pr95</th>\n",
       "      <th>pr99</th>\n",
       "      <th>pr10mm</th>\n",
       "      <th>pr20mm</th>\n",
       "    </tr>\n",
       "  </thead>\n",
       "  <tbody>\n",
       "    <tr>\n",
       "      <th>NLA12_ME-124</th>\n",
       "      <td>10.955356</td>\n",
       "      <td>17.898313</td>\n",
       "      <td>37.767026</td>\n",
       "      <td>10</td>\n",
       "      <td>20</td>\n",
       "    </tr>\n",
       "  </tbody>\n",
       "</table>\n",
       "</div>"
      ],
      "text/plain": [
       "                   pr90       pr95       pr99  pr10mm  pr20mm\n",
       "NLA12_ME-124  10.955356  17.898313  37.767026      10      20"
      ]
     },
     "metadata": {},
     "output_type": "display_data"
    },
    {
     "name": "stdout",
     "output_type": "stream",
     "text": [
      "366\n"
     ]
    },
    {
     "data": {
      "text/html": [
       "<div>\n",
       "<table border=\"1\" class=\"dataframe\">\n",
       "  <thead>\n",
       "    <tr style=\"text-align: right;\">\n",
       "      <th></th>\n",
       "      <th>pr90</th>\n",
       "      <th>pr95</th>\n",
       "      <th>pr99</th>\n",
       "      <th>pr10mm</th>\n",
       "      <th>pr20mm</th>\n",
       "      <th>d_gt90</th>\n",
       "      <th>pr_gt90</th>\n",
       "      <th>d_gt90_1</th>\n",
       "      <th>pr_gt90_1</th>\n",
       "      <th>d_gt90_2</th>\n",
       "      <th>...</th>\n",
       "      <th>d_gt20_8</th>\n",
       "      <th>pr_gt20_8</th>\n",
       "      <th>d_gt20_9</th>\n",
       "      <th>pr_gt20_9</th>\n",
       "      <th>d_gt20_10</th>\n",
       "      <th>pr_gt20_10</th>\n",
       "      <th>d_gt20_11</th>\n",
       "      <th>pr_gt20_11</th>\n",
       "      <th>d_gt20_12</th>\n",
       "      <th>pr_gt20_12</th>\n",
       "    </tr>\n",
       "  </thead>\n",
       "  <tbody>\n",
       "    <tr>\n",
       "      <th>NLA12_ME-124</th>\n",
       "      <td>10.955356</td>\n",
       "      <td>17.898313</td>\n",
       "      <td>37.767026</td>\n",
       "      <td>10</td>\n",
       "      <td>20</td>\n",
       "      <td>34</td>\n",
       "      <td>886.468242</td>\n",
       "      <td>1</td>\n",
       "      <td>25.407471</td>\n",
       "      <td>1</td>\n",
       "      <td>...</td>\n",
       "      <td>1</td>\n",
       "      <td>52.525494</td>\n",
       "      <td>2</td>\n",
       "      <td>105.570168</td>\n",
       "      <td>2</td>\n",
       "      <td>96.97349</td>\n",
       "      <td>0</td>\n",
       "      <td>0.0</td>\n",
       "      <td>2</td>\n",
       "      <td>54.186899</td>\n",
       "    </tr>\n",
       "  </tbody>\n",
       "</table>\n",
       "<p>1 rows × 135 columns</p>\n",
       "</div>"
      ],
      "text/plain": [
       "                   pr90       pr95       pr99  pr10mm  pr20mm  d_gt90  \\\n",
       "NLA12_ME-124  10.955356  17.898313  37.767026      10      20      34   \n",
       "\n",
       "                 pr_gt90  d_gt90_1  pr_gt90_1  d_gt90_2     ...      d_gt20_8  \\\n",
       "NLA12_ME-124  886.468242         1  25.407471         1     ...             1   \n",
       "\n",
       "              pr_gt20_8  d_gt20_9   pr_gt20_9  d_gt20_10  pr_gt20_10  \\\n",
       "NLA12_ME-124  52.525494         2  105.570168          2    96.97349   \n",
       "\n",
       "              d_gt20_11  pr_gt20_11  d_gt20_12  pr_gt20_12  \n",
       "NLA12_ME-124          0         0.0          2   54.186899  \n",
       "\n",
       "[1 rows x 135 columns]"
      ]
     },
     "metadata": {},
     "output_type": "display_data"
    }
   ],
   "source": [
    "# display(df_basin.head())\n",
    "\n",
    "# get percentiles based on >1mm\n",
    "df_basin_gte_1 = df_basin.loc[df_basin['pr']>=1]\n",
    "# display(df_basin_gte_1.head())\n",
    "ptiles = df_basin.quantile(q=[0.90,0.95,0.99])\n",
    "out = ptiles.transpose()\n",
    "out.columns=['pr90','pr95','pr99']\n",
    "out['pr10mm'] = 10\n",
    "out['pr20mm'] = 20\n",
    "out.index = [basin_name]\n",
    "display(out)\n",
    "\n",
    "# get 2012\n",
    "df_basin_2012 = df_basin.loc['20120101':'20121231']\n",
    "print(len(df_basin_2012))\n",
    "for q in ['pr90','pr95','pr99','pr10mm','pr20mm']:\n",
    "    # get extreme days in 2012\n",
    "    df_basin_2012_gtq = df_basin_2012.loc[df_basin_2012['pr']>out[q][0]]\n",
    "    out['d_gt'+q[2:4]] = len(df_basin_2012_gtq)\n",
    "    out['pr_gt'+q[2:4]] = df_basin_2012_gtq.sum()[0]\n",
    "    for i in range(1,13):\n",
    "        df_basin_2012_gtq_i = df_basin_2012_gtq.loc[df_basin_2012_gtq.index.month==i]\n",
    "        out['d_gt'+q[2:4]+'_'+str(i)] = len(df_basin_2012_gtq_i)\n",
    "        out['pr_gt'+q[2:4]+'_'+str(i)] = df_basin_2012_gtq_i.sum()[0]\n",
    "display(out)"
   ]
  }
 ],
 "metadata": {
  "kernelspec": {
   "display_name": "Python 2",
   "language": "python",
   "name": "python2"
  },
  "language_info": {
   "codemirror_mode": {
    "name": "ipython",
    "version": 2
   },
   "file_extension": ".py",
   "mimetype": "text/x-python",
   "name": "python",
   "nbconvert_exporter": "python",
   "pygments_lexer": "ipython2",
   "version": "2.7.13"
  }
 },
 "nbformat": 4,
 "nbformat_minor": 0
}
