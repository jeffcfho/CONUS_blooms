{
 "cells": [
  {
   "cell_type": "code",
   "execution_count": 20,
   "metadata": {
    "collapsed": false
   },
   "outputs": [],
   "source": [
    "%matplotlib inline\n",
    "from IPython.display import display\n",
    "\n",
    "import pandas as pd\n",
    "import numpy as np\n",
    "from sklearn.linear_model import Ridge\n",
    "\n",
    "import matplotlib as mpl\n",
    "mpl.rcParams['legend.scatterpoints'] = 1\n",
    "import matplotlib.pyplot as plt"
   ]
  },
  {
   "cell_type": "code",
   "execution_count": 19,
   "metadata": {
    "collapsed": false
   },
   "outputs": [
    {
     "data": {
      "text/plain": [
       "SITE_ID        VISIT_ID\n",
       "NLA06608-0001  7468         0.240\n",
       "NLA06608-0002  7469         3.840\n",
       "               7470        20.053\n",
       "               7470        20.880\n",
       "NLA06608-0003  7471        16.960\n",
       "Name: CHLA, dtype: float64"
      ]
     },
     "execution_count": 19,
     "metadata": {},
     "output_type": "execute_result"
    }
   ],
   "source": [
    "#import NLA 2007 chla\n",
    "nla07chla = pd.DataFrame.from_csv('NLA/NLA2007_WaterQuality_20091123.csv')\n",
    "nla07chla.reset_index(inplace=True)\n",
    "nla07chla.set_index(['SITE_ID','VISIT_ID'],inplace=True)\n",
    "nla07chla['CHLA'].head()\n",
    "# print(nla07chla.columns.values)\n",
    "\n",
    "# FIGURE OUT HOW TO HANDLE THE DUPLICATE VISIT_IDS (MEAN? --> would reduce data)\n",
    "# other distinguishing factors besides VISIT_ID?"
   ]
  },
  {
   "cell_type": "code",
   "execution_count": null,
   "metadata": {
    "collapsed": true
   },
   "outputs": [],
   "source": [
    "# import NLA07_L5SR data\n",
    "df = pd.DataFrame.from_csv('/Users/Jeff/Google Drive/WatershedLandCover/NLA07_L5SR_getRegion.csv')\n",
    "df.index = df[['SITE_ID','VISIT_ID]]\n",
    "df_plus_chla = df.join(nla07chla['CHLA'])\n",
    "display(df_chla)"
   ]
  },
  {
   "cell_type": "code",
   "execution_count": null,
   "metadata": {
    "collapsed": true
   },
   "outputs": [],
   "source": [
    "# linear regression assuming each L5SR image is a unique obs\n",
    "y = np.array(df_chla['CHLA'])\n",
    "X = np.array(df_chla[['B1','B2','B3','B4','B5','B7']])\n",
    "lr_ridge = Ridge(alpha=1.0)\n",
    "lr_ridge.fit(X, y)\n",
    "r2 = lr_ridge.score(X,y)\n",
    "params = lr_ridge.get_params()\n",
    "print(r2)\n",
    "print(params)"
   ]
  },
  {
   "cell_type": "code",
   "execution_count": null,
   "metadata": {
    "collapsed": true
   },
   "outputs": [],
   "source": [
    "# will I have to check the atmosphere and cloud masks first?\n",
    "df_chla_drop = df_chla.loc[df_chla['cfmask']==????]\n",
    "df_chla_drop2 = df_chla.loc[df_chla['cfmask_conf']==????] #can look at L5SR documentation\n",
    "df_chla_drop3 = df_chla.loc[df_chla['sr_atmos_opacity']==????] #need to research this\n",
    "\n",
    "#takes the mean band values for all the closest L5SR images\n",
    "df_chla_mean = df_chla.group(['SITE_ID','VISIT_ID']).agg(np.mean())\n",
    "df_chla_mean = df_chla.group(['SITE_ID','VISIT_ID']).agg(np.max())\n",
    "\n",
    "\n"
   ]
  }
 ],
 "metadata": {
  "kernelspec": {
   "display_name": "Python 2",
   "language": "python",
   "name": "python2"
  },
  "language_info": {
   "codemirror_mode": {
    "name": "ipython",
    "version": 2
   },
   "file_extension": ".py",
   "mimetype": "text/x-python",
   "name": "python",
   "nbconvert_exporter": "python",
   "pygments_lexer": "ipython2",
   "version": "2.7.13"
  }
 },
 "nbformat": 4,
 "nbformat_minor": 0
}
